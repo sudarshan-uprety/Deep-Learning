{
 "cells": [
  {
   "cell_type": "code",
   "execution_count": 1,
   "id": "e8976921",
   "metadata": {},
   "outputs": [],
   "source": [
    "import numpy as np\n",
    "\n",
    "y_predicted=np.array([1,1,0,0,1])\n",
    "y_true=([0.30,0.7,1,0,0.5])"
   ]
  },
  {
   "cell_type": "code",
   "execution_count": 10,
   "id": "6d8ff8d2",
   "metadata": {},
   "outputs": [],
   "source": [
    "def mae(y_true,y_predicted):\n",
    "    total_error=0\n",
    "    for yt ,yp in zip(y_true,y_predicted):\n",
    "        total_error+= abs(yt-yp)\n",
    "    print(\"Total error: \",total_error)\n",
    "    mae=total_error/len(y_true)\n",
    "    print(\"Mean Absolute Error: \",mae)\n",
    "    return mae"
   ]
  },
  {
   "cell_type": "markdown",
   "id": "e10019a3",
   "metadata": {},
   "source": [
    "mar(y_true,y_predicted)"
   ]
  },
  {
   "cell_type": "code",
   "execution_count": 11,
   "id": "fd7f54e5",
   "metadata": {},
   "outputs": [
    {
     "name": "stdout",
     "output_type": "stream",
     "text": [
      "Total error:  2.5\n",
      "Mean Absolute Error:  0.5\n"
     ]
    },
    {
     "data": {
      "text/plain": [
       "0.5"
      ]
     },
     "execution_count": 11,
     "metadata": {},
     "output_type": "execute_result"
    }
   ],
   "source": [
    "mae(y_true,y_predicted)"
   ]
  },
  {
   "cell_type": "code",
   "execution_count": 13,
   "id": "de4dedab",
   "metadata": {},
   "outputs": [
    {
     "data": {
      "text/plain": [
       "array([0.7, 0.3, 1. , 0. , 0.5])"
      ]
     },
     "execution_count": 13,
     "metadata": {},
     "output_type": "execute_result"
    }
   ],
   "source": [
    "np.abs(y_predicted-y_true)"
   ]
  },
  {
   "cell_type": "code",
   "execution_count": 15,
   "id": "c90d2231",
   "metadata": {},
   "outputs": [
    {
     "data": {
      "text/plain": [
       "0.5"
      ]
     },
     "execution_count": 15,
     "metadata": {},
     "output_type": "execute_result"
    }
   ],
   "source": [
    "np.mean(np.abs(y_predicted-y_true))"
   ]
  },
  {
   "cell_type": "code",
   "execution_count": 18,
   "id": "a4d5c6f9",
   "metadata": {},
   "outputs": [
    {
     "data": {
      "text/plain": [
       "array([-43.74911677])"
      ]
     },
     "execution_count": 18,
     "metadata": {},
     "output_type": "execute_result"
    }
   ],
   "source": [
    "np.log([0.0000000000000000001])"
   ]
  },
  {
   "cell_type": "code",
   "execution_count": 19,
   "id": "6daceada",
   "metadata": {},
   "outputs": [],
   "source": [
    "eplison=1e-15"
   ]
  },
  {
   "cell_type": "code",
   "execution_count": 22,
   "id": "a5ea932e",
   "metadata": {},
   "outputs": [
    {
     "data": {
      "text/plain": [
       "[1, 1, 1e-15, 1e-15, 1]"
      ]
     },
     "execution_count": 22,
     "metadata": {},
     "output_type": "execute_result"
    }
   ],
   "source": [
    "y_predicted_new=[max(i,eplison) for i in y_predicted]\n",
    "y_predicted_new"
   ]
  },
  {
   "cell_type": "code",
   "execution_count": 23,
   "id": "de798982",
   "metadata": {},
   "outputs": [
    {
     "data": {
      "text/plain": [
       "[0.999999999999999, 0.999999999999999, 1e-15, 1e-15, 0.999999999999999]"
      ]
     },
     "execution_count": 23,
     "metadata": {},
     "output_type": "execute_result"
    }
   ],
   "source": [
    "y_predicted_new=[min(i,1-eplison) for i in y_predicted_new]\n",
    "y_predicted_new"
   ]
  },
  {
   "cell_type": "code",
   "execution_count": 25,
   "id": "4b409cec",
   "metadata": {},
   "outputs": [
    {
     "data": {
      "text/plain": [
       "array([-9.99200722e-16, -9.99200722e-16, -3.45387764e+01, -3.45387764e+01,\n",
       "       -9.99200722e-16])"
      ]
     },
     "execution_count": 25,
     "metadata": {},
     "output_type": "execute_result"
    }
   ],
   "source": [
    "y_predicted_new=np.array(y_predicted_new)\n",
    "np.log(y_predicted_new)"
   ]
  },
  {
   "cell_type": "code",
   "execution_count": 26,
   "id": "0a5cccd1",
   "metadata": {},
   "outputs": [],
   "source": [
    "y_p=np.array([1,1,0,0,1])\n",
    "y_t=np.array([0.30,0.7,1,0,0.5])"
   ]
  },
  {
   "cell_type": "code",
   "execution_count": 27,
   "id": "407de970",
   "metadata": {},
   "outputs": [],
   "source": [
    "def mse(y_t,y_p):\n",
    "    total_error=0\n",
    "    for yt,yp in zip(y_t,y_p):\n",
    "        total_error+=(yt-yp)**2\n",
    "    print(\"total squared error: \",total_error)\n",
    "    mse=total_error/len(y_true)\n",
    "    print(\"MSE is \",mse)\n",
    "    return mse"
   ]
  },
  {
   "cell_type": "code",
   "execution_count": 28,
   "id": "a670beb0",
   "metadata": {},
   "outputs": [
    {
     "name": "stdout",
     "output_type": "stream",
     "text": [
      "total squared error:  1.83\n",
      "MSE is  0.366\n"
     ]
    },
    {
     "data": {
      "text/plain": [
       "0.366"
      ]
     },
     "execution_count": 28,
     "metadata": {},
     "output_type": "execute_result"
    }
   ],
   "source": [
    "mse(y_t,y_p)"
   ]
  },
  {
   "cell_type": "code",
   "execution_count": 29,
   "id": "dbdea607",
   "metadata": {},
   "outputs": [
    {
     "data": {
      "text/plain": [
       "0.366"
      ]
     },
     "execution_count": 29,
     "metadata": {},
     "output_type": "execute_result"
    }
   ],
   "source": [
    "np.mean(np.square(y_t-y_p))"
   ]
  },
  {
   "cell_type": "code",
   "execution_count": null,
   "id": "e020432e",
   "metadata": {},
   "outputs": [],
   "source": []
  }
 ],
 "metadata": {
  "kernelspec": {
   "display_name": "Python 3 (ipykernel)",
   "language": "python",
   "name": "python3"
  },
  "language_info": {
   "codemirror_mode": {
    "name": "ipython",
    "version": 3
   },
   "file_extension": ".py",
   "mimetype": "text/x-python",
   "name": "python",
   "nbconvert_exporter": "python",
   "pygments_lexer": "ipython3",
   "version": "3.9.13"
  }
 },
 "nbformat": 4,
 "nbformat_minor": 5
}
